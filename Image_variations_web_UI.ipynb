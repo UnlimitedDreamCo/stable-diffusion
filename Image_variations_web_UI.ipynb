{
  "cells": [
    {
      "cell_type": "markdown",
      "metadata": {
        "id": "view-in-github",
        "colab_type": "text"
      },
      "source": [
        "<a href=\"https://colab.research.google.com/github/UnlimitedDreamCo/stable-diffusion/blob/main/Image_variations_web_UI.ipynb\" target=\"_parent\"><img src=\"https://colab.research.google.com/assets/colab-badge.svg\" alt=\"Open In Colab\"/></a>"
      ]
    },
    {
      "cell_type": "markdown",
      "metadata": {
        "id": "jnXUwtACCHOy"
      },
      "source": [
        "# Stable Diffusion Image Variations by Justin Pinkney [@buntworthy](https://https://twitter.com/Buntworthy)\n",
        "\n",
        "Quick and dirty Colab implementation by [@unltd_dream_co](https://twitter.com/unltd_dream_co). Seriously, it could be so much better.\n",
        "\n",
        "---\n"
      ]
    },
    {
      "cell_type": "code",
      "execution_count": null,
      "metadata": {
        "colab": {
          "base_uri": "https://localhost:8080/"
        },
        "id": "cAsdhafsBvEr",
        "outputId": "c5b1f0b9-914d-4a9f-a2d4-c77b090bf22e"
      },
      "outputs": [
        {
          "output_type": "stream",
          "name": "stdout",
          "text": [
            "GPU 0: Tesla V100-SXM2-16GB (UUID: GPU-23359b39-ff4f-7513-1f20-4bd269c7fda1)\n"
          ]
        }
      ],
      "source": [
        "!nvidia-smi -L"
      ]
    },
    {
      "cell_type": "code",
      "execution_count": null,
      "metadata": {
        "cellView": "form",
        "id": "LSCxESSsDGVh"
      },
      "outputs": [],
      "source": [
        "#@markdown ## Download the stable-diffusion image variation repo\n",
        "%cd /content\n",
        "!git clone https://github.com/UnlimitedDreamCo/stable-diffusion.git\n",
        "%cd /content/stable-diffusion"
      ]
    },
    {
      "cell_type": "code",
      "execution_count": null,
      "metadata": {
        "id": "PvH2zyoiD0q8"
      },
      "outputs": [],
      "source": [
        "#@markdown ## Set up environment\n",
        "!pip install -r requirements.txt"
      ]
    },
    {
      "cell_type": "code",
      "source": [
        "#@markdown ## Download the model\n",
        "!mkdir /content/stable-diffusion/models/ldm/stable-diffusion-v1/\n",
        "!wget https://huggingface.co/lambdalabs/stable-diffusion-image-conditioned/resolve/main/sd-clip-vit-l14-img-embed_ema_only.ckpt -O /content/stable-diffusion/models/ldm/stable-diffusion-v1/sd-clip-vit-l14-img-embed_ema_only.ckpt"
      ],
      "metadata": {
        "id": "BNp1jLLVLF5C",
        "cellView": "form"
      },
      "execution_count": null,
      "outputs": []
    },
    {
      "cell_type": "code",
      "execution_count": null,
      "metadata": {
        "cellView": "form",
        "colab": {
          "base_uri": "https://localhost:8080/"
        },
        "id": "BTH_drY9KZ4k",
        "outputId": "c596c52e-e35f-4d0d-c893-d0f0b1badc2f"
      },
      "outputs": [
        {
          "metadata": {
            "tags": null
          },
          "name": "stdout",
          "output_type": "stream",
          "text": [
            "/content/stable-diffusion\n",
            "Loading model from models/ldm/stable-diffusion-v1/sd-clip-vit-l14-img-embed_ema_only.ckpt\n",
            "LatentDiffusion: Running in eps-prediction mode\n",
            "DiffusionWrapper has 859.52 M params.\n",
            "Keeping EMAs of 688.\n",
            "making attention of type 'vanilla' with 512 in_channels\n",
            "Working with z of shape (1, 4, 32, 32) = 4096 dimensions.\n",
            "making attention of type 'vanilla' with 512 in_channels\n",
            "/usr/local/lib/python3.9/site-packages/gradio/utils.py:45: DeprecationWarning: distutils Version classes are deprecated. Use packaging.version instead.\n",
            "  if StrictVersion(latest_pkg_version) > StrictVersion(current_pkg_version):\n",
            "/usr/local/lib/python3.9/site-packages/gradio/utils.py:45: DeprecationWarning: distutils Version classes are deprecated. Use packaging.version instead.\n",
            "  if StrictVersion(latest_pkg_version) > StrictVersion(current_pkg_version):\n",
            "Running on local URL:  http://127.0.0.1:7860/\n",
            "Running on public URL: https://54030.gradio.app\n",
            "\n",
            "This share link expires in 72 hours. For free permanent hosting, check out Spaces: https://huggingface.co/spaces\n",
            "Data shape for PLMS sampling is (1, 4, 64, 64)\n",
            "Running PLMS Sampling with 25 timesteps\n",
            "PLMS Sampler: 100% 25/25 [00:04<00:00,  5.74it/s]\n",
            "Data shape for DDIM sampling is (1, 4, 64, 64), eta 1.0\n",
            "Running DDIM Sampling with 25 timesteps\n",
            "DDIM Sampler: 100% 25/25 [00:04<00:00,  5.85it/s]\n",
            "Data shape for DDIM sampling is (1, 4, 64, 64), eta 1.0\n",
            "Running DDIM Sampling with 25 timesteps\n",
            "DDIM Sampler: 100% 25/25 [00:04<00:00,  5.99it/s]\n",
            "Data shape for DDIM sampling is (1, 4, 64, 64), eta 1.0\n",
            "Running DDIM Sampling with 25 timesteps\n",
            "DDIM Sampler: 100% 25/25 [00:04<00:00,  5.96it/s]\n",
            "Data shape for DDIM sampling is (1, 4, 64, 64), eta 1.0\n",
            "Running DDIM Sampling with 50 timesteps\n",
            "DDIM Sampler: 100% 50/50 [00:08<00:00,  5.96it/s]\n"
          ]
        }
      ],
      "source": [
        "#@markdown ## Launch the web UI\n",
        "#@markdown #### Important - click the public URL to launch WebUI in another tab\n",
        "#@markdown ![](https://user-images.githubusercontent.com/463317/187105407-dd9b0f4e-c8da-49d3-8c78-1767f5c9aa83.jpg)\n",
        "#@markdown ** keep in mind that this script is set to run for ever, google will disconnect you after 90 minutes on free tiers\n",
        "\n",
        "%cd /content/stable-diffusion\n",
        "\n",
        "!python scripts/gradio_variations.py\n",
        "\n"
      ]
    },
    {
      "cell_type": "code",
      "execution_count": null,
      "metadata": {
        "id": "iZ-X7HxeRNRQ"
      },
      "outputs": [],
      "source": []
    }
  ],
  "metadata": {
    "accelerator": "GPU",
    "colab": {
      "collapsed_sections": [
        "4eodrBxeCgOW",
        "RXasLtrYC9uj",
        "MVJzvQGdDn6C",
        "vhZQqFGxEHcA",
        "Wt_tzv_eJ9Qz",
        "ip0o1IqmQNON",
        "E1kYjBY9Rmi-"
      ],
      "machine_shape": "hm",
      "provenance": [],
      "include_colab_link": true
    },
    "gpuClass": "standard",
    "kernelspec": {
      "display_name": "Python 3",
      "name": "python3"
    },
    "language_info": {
      "name": "python"
    }
  },
  "nbformat": 4,
  "nbformat_minor": 0
}