{
  "cells": [
    {
      "cell_type": "markdown",
      "metadata": {
        "id": "view-in-github",
        "colab_type": "text"
      },
      "source": [
        "<a href=\"https://colab.research.google.com/github/UnlimitedDreamCo/stable-diffusion/blob/main/Image_variations_web_UI.ipynb\" target=\"_parent\"><img src=\"https://colab.research.google.com/assets/colab-badge.svg\" alt=\"Open In Colab\"/></a>"
      ]
    },
    {
      "cell_type": "markdown",
      "metadata": {
        "id": "jnXUwtACCHOy"
      },
      "source": [
        "# Stable Diffusion Image Variations by Justin Pinkney [@buntworthy](https://https://twitter.com/Buntworthy)\n",
        "\n",
        "Quick and dirty Colab implementation by [@unltd_dream_co](https://twitter.com/unltd_dream_co). Seriously, it could be so much better.\n",
        "\n",
        "---\n"
      ]
    },
    {
      "cell_type": "code",
      "execution_count": null,
      "metadata": {
        "id": "cAsdhafsBvEr"
      },
      "outputs": [],
      "source": [
        "!nvidia-smi -L"
      ]
    },
    {
      "cell_type": "code",
      "execution_count": null,
      "metadata": {
        "cellView": "form",
        "id": "LSCxESSsDGVh"
      },
      "outputs": [],
      "source": [
        "#@markdown ## Download the stable-diffusion image variation repo\n",
        "%cd /content\n",
        "!git clone https://github.com/UnlimitedDreamCo/stable-diffusion.git\n",
        "%cd /content/stable-diffusion\n",
        "\n",
        "import sys\n",
        "!wget https://repo.anaconda.com/miniconda/Miniconda3-latest-Linux-x86_64.sh\n",
        "!chmod +x Miniconda3-latest-Linux-x86_64.sh\n",
        "!bash ./Miniconda3-latest-Linux-x86_64.sh -b -f -p /usr/local\n",
        "sys.path.append('/usr/local/lib/python3.7/site-packages/')\n",
        "!rm Miniconda3-latest-Linux-x86_64.sh\n"
      ]
    },
    {
      "cell_type": "code",
      "execution_count": null,
      "metadata": {
        "id": "PvH2zyoiD0q8",
        "cellView": "form"
      },
      "outputs": [],
      "source": [
        "#@markdown ## Set up environment\n",
        "\n",
        "!pip install -r requirements.txt\n",
        "\n"
      ]
    },
    {
      "cell_type": "code",
      "source": [
        "#@markdown ## Download the model\n",
        "!mkdir /content/stable-diffusion/models/ldm/stable-diffusion-v1/\n",
        "!wget https://huggingface.co/lambdalabs/stable-diffusion-image-conditioned/resolve/main/sd-clip-vit-l14-img-embed_ema_only.ckpt -O /content/stable-diffusion/models/ldm/stable-diffusion-v1/sd-clip-vit-l14-img-embed_ema_only.ckpt"
      ],
      "metadata": {
        "id": "BNp1jLLVLF5C",
        "cellView": "form"
      },
      "execution_count": null,
      "outputs": []
    },
    {
      "cell_type": "code",
      "execution_count": null,
      "metadata": {
        "cellView": "form",
        "id": "BTH_drY9KZ4k"
      },
      "outputs": [],
      "source": [
        "#@markdown ## Launch the web UI\n",
        "#@markdown #### Important - click the public URL to launch WebUI in another tab\n",
        "#@markdown ![](https://user-images.githubusercontent.com/463317/187105407-dd9b0f4e-c8da-49d3-8c78-1767f5c9aa83.jpg)\n",
        "#@markdown ** keep in mind that this script is set to run for ever, google will disconnect you after 90 minutes on free tiers\n",
        "\n",
        "%cd /content/stable-diffusion\n",
        "\n",
        "!python scripts/gradio_variations.py\n",
        "\n"
      ]
    },
    {
      "cell_type": "code",
      "execution_count": null,
      "metadata": {
        "id": "iZ-X7HxeRNRQ"
      },
      "outputs": [],
      "source": []
    }
  ],
  "metadata": {
    "accelerator": "GPU",
    "colab": {
      "collapsed_sections": [
        "4eodrBxeCgOW",
        "RXasLtrYC9uj",
        "MVJzvQGdDn6C",
        "vhZQqFGxEHcA",
        "Wt_tzv_eJ9Qz",
        "ip0o1IqmQNON",
        "E1kYjBY9Rmi-"
      ],
      "machine_shape": "hm",
      "provenance": [],
      "include_colab_link": true
    },
    "gpuClass": "standard",
    "kernelspec": {
      "display_name": "Python 3",
      "name": "python3"
    },
    "language_info": {
      "name": "python"
    }
  },
  "nbformat": 4,
  "nbformat_minor": 0
}